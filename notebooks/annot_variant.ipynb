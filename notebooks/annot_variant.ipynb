{
 "cells": [
  {
   "cell_type": "code",
   "execution_count": null,
   "metadata": {},
   "outputs": [],
   "source": [
    "import os\n",
    "import pysam\n",
    "import yaml\n",
    "from datetime import datetime"
   ]
  },
  {
   "cell_type": "code",
   "execution_count": null,
   "metadata": {},
   "outputs": [],
   "source": [
    "data_dir = '/home/mwjeong/projects/cwas/data'\n",
    "vcf_path = f'{data_dir}/input/my_table.hq_dnvs.sorted.cp.vcf.gz'\n",
    "annot_bed_path = f'{data_dir}/annotate/merge_track.bed.gz'\n",
    "result_path = f'{data_dir}/input/my_table_hq_dnvs.sorted.cp.annot.vcf'"
   ]
  },
  {
   "cell_type": "code",
   "execution_count": null,
   "metadata": {},
   "outputs": [],
   "source": [
    "# path settings\n",
    "project_dir = os.path.abspath('..')\n",
    "annot_conf_path = os.path.join(project_dir, 'conf', 'annotation.yaml')"
   ]
  },
  {
   "cell_type": "code",
   "execution_count": null,
   "metadata": {},
   "outputs": [],
   "source": [
    "# parse the configuration\n",
    "with open(annot_conf_path) as annot_conf_file:\n",
    "    annot_path_dict = yaml.safe_load(annot_conf_file)"
   ]
  },
  {
   "cell_type": "code",
   "execution_count": null,
   "metadata": {},
   "outputs": [],
   "source": [
    "# List of bed files\n",
    "bed_keys = []\n",
    "\n",
    "for annot_key in annot_path_dict:\n",
    "    annot_path = annot_path_dict[annot_key]\n",
    "    if annot_path.endswith('bed') or annot_path.endswith('bed.gz'):\n",
    "        bed_keys.append(annot_key)"
   ]
  },
  {
   "cell_type": "code",
   "execution_count": null,
   "metadata": {},
   "outputs": [],
   "source": [
    "def get_curr_time() -> str:\n",
    "    now = datetime.now()\n",
    "    curr_time = now.strftime('%H:%M:%S %m/%d/%y')\n",
    "    return curr_time"
   ]
  },
  {
   "cell_type": "code",
   "execution_count": null,
   "metadata": {},
   "outputs": [],
   "source": [
    "# Custom annotation\n",
    "chroms = [f'chr{n}' for n in range(1, 23)]\n",
    "\n",
    "with pysam.TabixFile(vcf_path) as vcf_file, pysam.TabixFile(annot_bed_path) as bed_file, open(result_path, 'w') as outfile:\n",
    "    print(f'##INFO=<ID=ANNOT,LIST={\"|\".join(bed_keys)}>', file=outfile)\n",
    "    print('#CHROM', 'POS', 'ID', 'REF', 'ALT', 'QUAL', 'FILTER', 'INFO', sep='\\t', file=outfile)\n",
    "\n",
    "    for chrom in chroms:\n",
    "        print(f'[{get_curr_time()}, Progress] {chrom}')\n",
    "        var_iter = vcf_file.fetch(chrom, parser=pysam.asTuple())\n",
    "        bed_iter = bed_file.fetch(chrom, parser=pysam.asTuple())\n",
    "        variant = next(var_iter, None)\n",
    "        bed = next(bed_iter, None)\n",
    "\n",
    "        while variant is not None and bed is not None:\n",
    "            var_pos = int(variant[1]) - 1\n",
    "            bed_start = int(bed[1])\n",
    "            bed_end = int(bed[2])\n",
    "\n",
    "            if var_pos >= bed_end:\n",
    "                bed = next(bed_iter, None)\n",
    "            else:\n",
    "                if var_pos < bed_start:\n",
    "                    annot_int = 0\n",
    "                else:\n",
    "                    annot_int = int(bed[3])\n",
    "\n",
    "                print(str(variant) + f';ANNOT={annot_int}', file=outfile)\n",
    "                variant = next(var_iter, None)"
   ]
  },
  {
   "cell_type": "code",
   "execution_count": null,
   "metadata": {},
   "outputs": [],
   "source": [
    "# VEP\n",
    "vep_script = '/home/mwjeong/projects/cwas/src/run_vep.py'\n",
    "vep_result_path = result_path.replace('.vcf', '.vep.vcf')\n",
    "cmd = f'{vep_script} -i {result_path} -o {vep_result_path};'\n",
    "print(f'[{get_curr_time()}, Progress] VEP')\n",
    "os.system(cmd)\n",
    "print(f'[{get_curr_time()}, Progress] Done')"
   ]
  }
 ],
 "metadata": {
  "kernelspec": {
   "display_name": "bio",
   "language": "python",
   "name": "bio"
  },
  "language_info": {
   "codemirror_mode": {
    "name": "ipython",
    "version": 3
   },
   "file_extension": ".py",
   "mimetype": "text/x-python",
   "name": "python",
   "nbconvert_exporter": "python",
   "pygments_lexer": "ipython3",
   "version": "3.7.7"
  }
 },
 "nbformat": 4,
 "nbformat_minor": 4
}
