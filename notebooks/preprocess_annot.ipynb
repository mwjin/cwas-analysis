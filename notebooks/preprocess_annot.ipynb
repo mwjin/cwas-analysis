{
 "cells": [
  {
   "cell_type": "markdown",
   "metadata": {},
   "source": [
    "### Preprocessing custom annotation BED files"
   ]
  },
  {
   "cell_type": "code",
   "execution_count": null,
   "metadata": {},
   "outputs": [],
   "source": [
    "# Libraries for this notebook\n",
    "import gzip\n",
    "import os\n",
    "import yaml\n",
    "import pyBigWig as pbw"
   ]
  },
  {
   "cell_type": "code",
   "execution_count": null,
   "metadata": {},
   "outputs": [],
   "source": [
    "# Path settings\n",
    "project_dir = os.path.abspath('..')\n",
    "conf_dir = os.path.join(project_dir, 'conf')\n",
    "filepath_conf_path = os.path.join(conf_dir, 'paths.yaml')\n",
    "\n",
    "# Parse the configuration file\n",
    "with open(filepath_conf_path, 'r') as filepath_conf:\n",
    "    filepath_dict = yaml.safe_load(filepath_conf)\n",
    "    \n",
    "for file_key in filepath_dict:\n",
    "    filepath_dict[file_key] = os.path.join(filepath_dict['cwas_repo'], filepath_dict[file_key])"
   ]
  },
  {
   "cell_type": "markdown",
   "metadata": {},
   "source": [
    "#### 1. Filter tracks of Yale PsychENCODE bed files"
   ]
  },
  {
   "cell_type": "code",
   "execution_count": null,
   "metadata": {},
   "outputs": [],
   "source": [
    "def get_region_val(yale_bed_line):\n",
    "    fields = yale_bed_line.strip().split('\\t')\n",
    "    region_val_str = fields[3]\n",
    "    return max([int(y.split('_')[0]) for y in region_val_str.split('&')])"
   ]
  },
  {
   "cell_type": "code",
   "execution_count": null,
   "metadata": {},
   "outputs": [],
   "source": [
    "def filt_yale_bed(in_bed_path, out_bed_path):\n",
    "    with gzip.open(in_bed_path, 'rt') as infile, open(out_bed_path, 'w') as outfile:\n",
    "        for line in infile:\n",
    "            if get_region_val(line) > 1:\n",
    "                outfile.write(line) "
   ]
  },
  {
   "cell_type": "code",
   "execution_count": null,
   "metadata": {},
   "outputs": [],
   "source": [
    "in_yale_cbc_path = filepath_dict['In_Yale_H3K27ac_CBC']\n",
    "out_yale_cbc_path = filepath_dict['Out_Yale_H3K27ac_CBC']\n",
    "filt_yale_bed(in_yale_cbc_path, out_yale_cbc_path)\n",
    "cmd = f'bgzip {out_yale_cbc_path};'\n",
    "cmd += f'tabix {out_yale_cbc_path + \".gz\"};'\n",
    "os.system(cmd)"
   ]
  },
  {
   "cell_type": "code",
   "execution_count": null,
   "metadata": {},
   "outputs": [],
   "source": [
    "in_yale_cbc_path = filepath_dict['In_Yale_H3K27ac_DFC']\n",
    "out_yale_cbc_path = filepath_dict['Out_Yale_H3K27ac_DFC']\n",
    "filt_yale_bed(in_yale_cbc_path, out_yale_cbc_path)\n",
    "cmd = f'bgzip {out_yale_cbc_path};'\n",
    "cmd += f'tabix {out_yale_cbc_path + \".gz\"};'\n",
    "os.system(cmd)"
   ]
  },
  {
   "cell_type": "markdown",
   "metadata": {},
   "source": [
    "#### 2. Make bed files from the BigWig files"
   ]
  },
  {
   "cell_type": "code",
   "execution_count": null,
   "metadata": {},
   "outputs": [],
   "source": [
    "# Make a dictionary of chromosome sizes\n",
    "chrom_size_path = filepath_dict['chrom_size']\n",
    "chrom_size_dict = {}\n",
    "\n",
    "with open(chrom_size_path) as chrom_size_file:\n",
    "    for line in chrom_size_file:\n",
    "        fields = line.strip().split('\\t')\n",
    "        chrom_size_dict[fields[0]] = int(fields[1])"
   ]
  },
  {
   "cell_type": "code",
   "execution_count": null,
   "metadata": {},
   "outputs": [],
   "source": [
    "def make_bins(bin_size, total_size):\n",
    "    bins = []\n",
    "    bin_cnt = total_size // bin_size\n",
    "    remain = total_size % bin_size\n",
    "    \n",
    "    for i in range(bin_cnt):\n",
    "        bins.append((bin_size * i, bin_size * (i + 1)))\n",
    "    \n",
    "    if remain != 0:\n",
    "        bins.append((bin_cnt * bin_size, bin_cnt * bin_size + remain))\n",
    "    \n",
    "    return bins"
   ]
  },
  {
   "cell_type": "code",
   "execution_count": null,
   "metadata": {},
   "outputs": [],
   "source": [
    "def make_bed_entries(bwfile, chrom, chrom_size, bin_size, val_cutoff):\n",
    "    chrom_bins = make_bins(bin_size, chrom_size)\n",
    "    bed_entries = []\n",
    "    inter_stack = []\n",
    "    \n",
    "    for start, end in chrom_bins:\n",
    "        intervals = bwfile.intervals(chrom, start, end)\n",
    "    \n",
    "        if not intervals:\n",
    "            continue\n",
    "    \n",
    "        for interval in intervals:\n",
    "            if interval[2] < cutoff:\n",
    "                continue\n",
    "\n",
    "            if not inter_stack or inter_stack[-1][1] == interval[0]:  # Continuous interval\n",
    "                inter_stack.append(interval)\n",
    "            else:\n",
    "                bed_entries.append((chrom, inter_stack[0][0], inter_stack[-1][1]))\n",
    "                inter_stack = [interval]\n",
    "\n",
    "    # Make a bed entry using remain intervals in the stack\n",
    "    bed_entries.append((chrom, inter_stack[0][0], inter_stack[-1][1]))\n",
    "    return bed_entries"
   ]
  },
  {
   "cell_type": "code",
   "execution_count": null,
   "metadata": {},
   "outputs": [],
   "source": [
    "def compress_and_index(bed_file_path):\n",
    "    cmd = f'bgzip {bed_file_path};'\n",
    "    cmd += f'tabix {bed_file_path + \".gz\"};'\n",
    "    print(cmd)\n",
    "    return os.system(bed_file_path)"
   ]
  },
  {
   "cell_type": "code",
   "execution_count": null,
   "metadata": {},
   "outputs": [],
   "source": [
    "# PhyloP\n",
    "in_phylop_bw_path = filepath_dict['In_phyloP46wayVt']\n",
    "out_phylop_bed_path = filepath_dict['Out_phyloP46wayVt']\n",
    "\n",
    "bwfile = pbw.open(in_phylop_bw_path)\n",
    "cutoff = 2.0\n",
    "bin_size = 1000000\n",
    "chroms = [f'chr{n}' for n in range(1, 23)]\n",
    "\n",
    "with open(out_phylop_bed_path, 'w') as bedfile:\n",
    "    for chrom in chroms:\n",
    "        bed_entries = make_bed_entries(bwfile, chrom, chrom_size_dict[chrom], bin_size, cutoff)\n",
    "        \n",
    "        for bed_entry in bed_entries:\n",
    "            print(*bed_entry, 1, sep='\\t', file=bedfile)"
   ]
  },
  {
   "cell_type": "code",
   "execution_count": null,
   "metadata": {},
   "outputs": [],
   "source": [
    "# PhastCons\n",
    "in_phast_bw_path = filepath_dict['In_phastCons46wayVt']\n",
    "out_phast_bed_path = filepath_dict['Out_phastCons46wayVt']\n",
    "\n",
    "bwfile = pbw.open(in_phast_bw_path)\n",
    "cutoff = 0.2\n",
    "bin_size = 1000000\n",
    "chroms = [f'chr{n}' for n in range(1, 23)]\n",
    "\n",
    "with open(out_phast_bed_path, 'w') as bedfile:\n",
    "    for chrom in chroms:\n",
    "        bed_entries = make_bed_entries(bwfile, chrom, chrom_size_dict[chrom], bin_size, cutoff)\n",
    "        \n",
    "        for bed_entry in bed_entries:\n",
    "            print(*bed_entry, 1, sep='\\t', file=bedfile)"
   ]
  },
  {
   "cell_type": "code",
   "execution_count": null,
   "metadata": {},
   "outputs": [],
   "source": [
    "# Tabix\n",
    "compress_and_index(out_phast_bed_path)\n",
    "compress_and_index(out_phylop_bed_path)"
   ]
  }
 ],
 "metadata": {
  "kernelspec": {
   "display_name": "bio",
   "language": "python",
   "name": "bio"
  },
  "language_info": {
   "codemirror_mode": {
    "name": "ipython",
    "version": 3
   },
   "file_extension": ".py",
   "mimetype": "text/x-python",
   "name": "python",
   "nbconvert_exporter": "python",
   "pygments_lexer": "ipython3",
   "version": "3.7.7"
  }
 },
 "nbformat": 4,
 "nbformat_minor": 4
}
